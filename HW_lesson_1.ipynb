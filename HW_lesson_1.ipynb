{
 "cells": [
  {
   "cell_type": "markdown",
   "id": "b45c5598",
   "metadata": {},
   "source": [
    "## Урок 1. Введение в задачу классификации. Постановка задачи и подготовка данных."
   ]
  },
  {
   "cell_type": "markdown",
   "id": "982eb1da",
   "metadata": {},
   "source": [
    "### Домашнее задание"
   ]
  },
  {
   "cell_type": "markdown",
   "id": "1a97005a",
   "metadata": {},
   "source": [
    "#### 1. Приведите по 2 примера, когда лучше максимизировать Precision, а когда Recall."
   ]
  },
  {
   "cell_type": "markdown",
   "id": "e3a5028c",
   "metadata": {},
   "source": [
    "#### Решение\n",
    "\n",
    "**1) Precision:**\n",
    "\n",
    "*1. Распознавание чего-либо на изображении. Результаты должны как можно более соответствовать распознаваемому образу.*\n",
    "\n",
    "*2. Сервисы рекомендаций. Результаты должны как можно более соответствовать предпочтениям пользователя.*\n",
    "\n",
    "**2) Recall:**\n",
    "\n",
    "*1. Алгоритм, ставящий диагноз (допустим есть рак или нет), не должен пропустить потенциально возможный рак.*\n",
    "\n",
    "*2. Fraud операции (мошенничество по картам). Ошибочно отрицательные срабатывания намного опаснее ложно положительных.*\n"
   ]
  },
  {
   "cell_type": "markdown",
   "id": "87fe8026",
   "metadata": {},
   "source": [
    "#### 2. Почему мы используем F-меру, почему, например, нельзя просто взять среднее от Precision и Recall?"
   ]
  },
  {
   "cell_type": "markdown",
   "id": "f37822ab",
   "metadata": {},
   "source": [
    "#### Решение\n",
    "\n",
    "*Precision и Recall рассчитываются от разного количества объектов. Поэтому вместо обычного среднего лучше взять F-меру (гармоническое среднее).*"
   ]
  }
 ],
 "metadata": {
  "kernelspec": {
   "display_name": "Python 3 (ipykernel)",
   "language": "python",
   "name": "python3"
  },
  "language_info": {
   "codemirror_mode": {
    "name": "ipython",
    "version": 3
   },
   "file_extension": ".py",
   "mimetype": "text/x-python",
   "name": "python",
   "nbconvert_exporter": "python",
   "pygments_lexer": "ipython3",
   "version": "3.10.5"
  }
 },
 "nbformat": 4,
 "nbformat_minor": 5
}
